{
 "cells": [
  {
   "cell_type": "code",
   "execution_count": 16,
   "metadata": {},
   "outputs": [],
   "source": [
    "import os\n",
    "import pandas as pd\n",
    "import matplotlib.pyplot as plt"
   ]
  },
  {
   "cell_type": "code",
   "execution_count": 17,
   "metadata": {},
   "outputs": [],
   "source": [
    "dataframe = pd.read_csv('./slice_output.txt')"
   ]
  },
  {
   "cell_type": "code",
   "execution_count": 18,
   "metadata": {},
   "outputs": [
    {
     "data": {
      "text/html": [
       "<div>\n",
       "<style scoped>\n",
       "    .dataframe tbody tr th:only-of-type {\n",
       "        vertical-align: middle;\n",
       "    }\n",
       "\n",
       "    .dataframe tbody tr th {\n",
       "        vertical-align: top;\n",
       "    }\n",
       "\n",
       "    .dataframe thead th {\n",
       "        text-align: right;\n",
       "    }\n",
       "</style>\n",
       "<table border=\"1\" class=\"dataframe\">\n",
       "  <thead>\n",
       "    <tr style=\"text-align: right;\">\n",
       "      <th></th>\n",
       "      <th>Unnamed: 0</th>\n",
       "      <th>col</th>\n",
       "      <th>category</th>\n",
       "      <th>precision</th>\n",
       "      <th>recall</th>\n",
       "      <th>f1</th>\n",
       "    </tr>\n",
       "  </thead>\n",
       "  <tbody>\n",
       "    <tr>\n",
       "      <th>0</th>\n",
       "      <td>0</td>\n",
       "      <td>workclass</td>\n",
       "      <td>Private</td>\n",
       "      <td>0.727163</td>\n",
       "      <td>0.592556</td>\n",
       "      <td>0.652995</td>\n",
       "    </tr>\n",
       "    <tr>\n",
       "      <th>1</th>\n",
       "      <td>1</td>\n",
       "      <td>workclass</td>\n",
       "      <td>?</td>\n",
       "      <td>0.590909</td>\n",
       "      <td>0.317073</td>\n",
       "      <td>0.412698</td>\n",
       "    </tr>\n",
       "    <tr>\n",
       "      <th>2</th>\n",
       "      <td>2</td>\n",
       "      <td>workclass</td>\n",
       "      <td>Self-emp-inc</td>\n",
       "      <td>0.754237</td>\n",
       "      <td>0.773913</td>\n",
       "      <td>0.763948</td>\n",
       "    </tr>\n",
       "    <tr>\n",
       "      <th>3</th>\n",
       "      <td>3</td>\n",
       "      <td>workclass</td>\n",
       "      <td>Self-emp-not-inc</td>\n",
       "      <td>0.682243</td>\n",
       "      <td>0.483444</td>\n",
       "      <td>0.565891</td>\n",
       "    </tr>\n",
       "    <tr>\n",
       "      <th>4</th>\n",
       "      <td>4</td>\n",
       "      <td>workclass</td>\n",
       "      <td>Federal-gov</td>\n",
       "      <td>0.784615</td>\n",
       "      <td>0.698630</td>\n",
       "      <td>0.739130</td>\n",
       "    </tr>\n",
       "  </tbody>\n",
       "</table>\n",
       "</div>"
      ],
      "text/plain": [
       "   Unnamed: 0        col          category  precision    recall        f1\n",
       "0           0  workclass           Private   0.727163  0.592556  0.652995\n",
       "1           1  workclass                 ?   0.590909  0.317073  0.412698\n",
       "2           2  workclass      Self-emp-inc   0.754237  0.773913  0.763948\n",
       "3           3  workclass  Self-emp-not-inc   0.682243  0.483444  0.565891\n",
       "4           4  workclass       Federal-gov   0.784615  0.698630  0.739130"
      ]
     },
     "execution_count": 18,
     "metadata": {},
     "output_type": "execute_result"
    }
   ],
   "source": [
    "dataframe.head()"
   ]
  },
  {
   "cell_type": "code",
   "execution_count": 22,
   "metadata": {},
   "outputs": [
    {
     "data": {
      "text/plain": [
       "<Figure size 432x288 with 0 Axes>"
      ]
     },
     "metadata": {},
     "output_type": "display_data"
    }
   ],
   "source": [
    "plt.figure();"
   ]
  }
 ],
 "metadata": {
  "interpreter": {
   "hash": "e33cc144cd0c729033bdf7ff70ed87f69b83a753e8360e3b28c876c792f9f053"
  },
  "kernelspec": {
   "display_name": "Python 3.8.13 ('udacity3')",
   "language": "python",
   "name": "python3"
  },
  "language_info": {
   "codemirror_mode": {
    "name": "ipython",
    "version": 3
   },
   "file_extension": ".py",
   "mimetype": "text/x-python",
   "name": "python",
   "nbconvert_exporter": "python",
   "pygments_lexer": "ipython3",
   "version": "3.8.13"
  },
  "orig_nbformat": 4
 },
 "nbformat": 4,
 "nbformat_minor": 2
}
